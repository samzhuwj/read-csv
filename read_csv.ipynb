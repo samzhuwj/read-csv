{
 "cells": [
  {
   "cell_type": "code",
   "execution_count": 1,
   "metadata": {},
   "outputs": [
    {
     "name": "stdout",
     "output_type": "stream",
     "text": [
      "['SN', ' Name', ' City']\n",
      "['1', ' John', ' Washington']\n",
      "['2', ' Eric', ' Los Angeles']\n",
      "['3', ' Brad', ' Texas']\n"
     ]
    }
   ],
   "source": [
    "import csv\n",
    "\n",
    "with open('people.csv', 'r') as csvFile:\n",
    "    reader = csv.reader(csvFile)\n",
    "    for row in reader:\n",
    "        print(row)\n",
    "\n",
    "csvFile.close()"
   ]
  },
  {
   "cell_type": "code",
   "execution_count": 2,
   "metadata": {},
   "outputs": [
    {
     "name": "stdout",
     "output_type": "stream",
     "text": [
      "Quotes\n",
      "What we think we become\n",
      "Never regret anything that made you smile\n",
      "Be yourself everyone else is already taken\n"
     ]
    }
   ],
   "source": [
    "import csv\n",
    "\n",
    "csv.register_dialect('myDialect',\n",
    "delimiter = ',',\n",
    "quoting=csv.QUOTE_ALL,\n",
    "skipinitialspace=True)\n",
    "\n",
    "with open('quotes.csv', 'r') as f:\n",
    "    reader = csv.reader(f, dialect='myDialect')\n",
    "    for row in reader:\n",
    "        print(row[2])"
   ]
  },
  {
   "cell_type": "code",
   "execution_count": 3,
   "metadata": {},
   "outputs": [
    {
     "name": "stdout",
     "output_type": "stream",
     "text": [
      "['pencil', 'eraser', 'sharpner']\n",
      "['book', 'chair', 'table\\napple', 'mango', 'grapes']\n"
     ]
    }
   ],
   "source": [
    "import csv\n",
    "\n",
    "csv.register_dialect('myDialect', delimiter = '|', quotechar='\"')\n",
    "\n",
    "with open('dialects.csv', 'r') as f:\n",
    "    reader = csv.reader(f, dialect='myDialect')\n",
    "    for row in reader:\n",
    "        print(row)"
   ]
  },
  {
   "cell_type": "code",
   "execution_count": 4,
   "metadata": {},
   "outputs": [
    {
     "name": "stdout",
     "output_type": "stream",
     "text": [
      "{'SN': '1', ' Name': ' John', ' City': ' Washington'}\n",
      "{'SN': '2', ' Name': ' Eric', ' City': ' Los Angeles'}\n",
      "{'SN': '3', ' Name': ' Brad', ' City': ' Texas'}\n"
     ]
    }
   ],
   "source": [
    "import csv\n",
    "\n",
    "with open(\"people.csv\", 'r') as csvfile:\n",
    "    reader = csv.DictReader(csvfile)\n",
    "    for row in reader:\n",
    "        print(dict(row))\n",
    "\n",
    "csvFile.close()"
   ]
  },
  {
   "cell_type": "code",
   "execution_count": 5,
   "metadata": {},
   "outputs": [
    {
     "name": "stdout",
     "output_type": "stream",
     "text": [
      "OrderedDict([('SN', '1'), (' Name', ' John'), (' City', ' Washington')])\n",
      "OrderedDict([('SN', '2'), (' Name', ' Eric'), (' City', ' Los Angeles')])\n",
      "OrderedDict([('SN', '3'), (' Name', ' Brad'), (' City', ' Texas')])\n"
     ]
    }
   ],
   "source": [
    "import csv\n",
    "\n",
    "with open(\"people.csv\", 'r') as csvfile:\n",
    "    reader = csv.DictReader(csvfile)\n",
    "    for row in reader:\n",
    "        print(row)\n",
    "\n",
    "csvFile.close()"
   ]
  },
  {
   "cell_type": "code",
   "execution_count": null,
   "metadata": {},
   "outputs": [],
   "source": []
  }
 ],
 "metadata": {
  "kernelspec": {
   "display_name": "Python 3",
   "language": "python",
   "name": "python3"
  },
  "language_info": {
   "codemirror_mode": {
    "name": "ipython",
    "version": 3
   },
   "file_extension": ".py",
   "mimetype": "text/x-python",
   "name": "python",
   "nbconvert_exporter": "python",
   "pygments_lexer": "ipython3",
   "version": "3.6.4"
  }
 },
 "nbformat": 4,
 "nbformat_minor": 2
}
